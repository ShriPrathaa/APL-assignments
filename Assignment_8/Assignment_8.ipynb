{
 "cells": [
  {
   "cell_type": "markdown",
   "metadata": {},
   "source": [
    "# Assignment 8\n",
    "## Reconstruction of image using DAS algorithm"
   ]
  },
  {
   "cell_type": "markdown",
   "metadata": {},
   "source": [
    "### Problem setup"
   ]
  },
  {
   "cell_type": "code",
   "execution_count": null,
   "metadata": {},
   "outputs": [],
   "source": [
    "import numpy as np\n",
    "import matplotlib.pyplot as plt\n",
    "# Main system parameters: number of mics, number of samples in time\n",
    "Nmics = 64\n",
    "Nsamp = 200\n",
    "# Source: x,y coordinates: x: 0, y: [-Y, +Y] where Y determined by pitch and Nmics\n",
    "src = (0, 0)\n",
    "# Spacing between microphones\n",
    "pitch = 0.1\n",
    "# proxy for sampling rate\n",
    "dist_per_samp = 0.1\n",
    "# Speed of sound in the medium\n",
    "C = 2.0\n",
    "# Time dilation factor for sinc pulse: how narrow\n",
    "SincP = 5\n",
    "# CODE Locations of microphones\n",
    "mics = [(src[0],pitch*(2*i+1)/2) for i in range(-Nmics//2,Nmics//2)]\n",
    "# Location of point obstacle\n",
    "obstacle = (3,-1)"
   ]
  },
  {
   "cell_type": "code",
   "execution_count": null,
   "metadata": {},
   "outputs": [],
   "source": [
    "t = 0 # CODE Nsamp time instants with spacing of dist_per_samp\n",
    "def wsrc(t):\n",
    "    return np.sinc(SincP*t)"
   ]
  },
  {
   "cell_type": "markdown",
   "metadata": {},
   "source": [
    "### Prameter that changes sharpness of sinc pulse"
   ]
  },
  {
   "cell_type": "code",
   "execution_count": null,
   "metadata": {},
   "outputs": [],
   "source": [
    "C=10\n",
    "x=np.array([i*dist_per_samp/C for i in range(0,Nsamp)])\n",
    "y=np.array([wsrc(x[i]) for i in range(0,Nsamp)])\n",
    "plt.plot(x,y)"
   ]
  },
  {
   "cell_type": "code",
   "execution_count": null,
   "metadata": {},
   "outputs": [],
   "source": [
    "C=2.0\n",
    "x=np.array([i*dist_per_samp/C for i in range(0,Nsamp)])\n",
    "y=np.array([wsrc(x[i]) for i in range(0,Nsamp)])\n",
    "plt.plot(x,y)"
   ]
  },
  {
   "cell_type": "markdown",
   "metadata": {},
   "source": [
    "The parameter that could be changed is C. For a given dist_per_samp if C is high time delay between samples is low. Thus the sinc pulse looks smeared or spread out. At low value of C it decays quite quickly. Thus `lower the value of C, higher is the sharpness of pulse`"
   ]
  },
  {
   "cell_type": "markdown",
   "metadata": {},
   "source": [
    "### Distance traveled from the source to microphone with a reflection from a point"
   ]
  },
  {
   "cell_type": "code",
   "execution_count": null,
   "metadata": {},
   "outputs": [],
   "source": [
    "def dist(src, pt, mic):\n",
    "    d1 = ((src[0]-pt[0])**2+(src[1]-pt[1])**2)**0.5 # CODE distance from src to pt\n",
    "    d2 = ((pt[0]-mic[0])**2+(pt[1]-mic[1])**2)**0.5 # CODE distance from pt to mic\n",
    "    return d1 + d2"
   ]
  },
  {
   "cell_type": "markdown",
   "metadata": {},
   "source": [
    "### Generating Mic Output"
   ]
  },
  {
   "cell_type": "code",
   "execution_count": null,
   "metadata": {},
   "outputs": [],
   "source": [
    "C=2.0\n",
    "# Define a list of delays for each mic\n",
    "delays = [(dist(src, obstacle, mics[i])/C) for i in range(len(mics))]\n",
    "y=[]\n",
    "# Plot each curve with its corresponding delay\n",
    "for i, delay in enumerate(delays):\n",
    "    y+=[wsrc(x-delays[i])+(i-Nmics/2+0.5) * pitch]\n",
    "    plt.plot(x,wsrc(x-delays[i])+(i-Nmics/2+0.5) * pitch)\n",
    "\n",
    "plt.xlabel('X-Axis')\n",
    "plt.ylabel('Data')\n",
    "plt.show()\n",
    "recons = np.zeros_like(y) #matrix used for reconstruction\n",
    "for i, delay in enumerate(delays):\n",
    "    recons[i] = y[i] - (i - Nmics/2 + 0.5) * pitch   "
   ]
  },
  {
   "cell_type": "markdown",
   "metadata": {},
   "source": [
    "### Heatplot"
   ]
  },
  {
   "cell_type": "code",
   "execution_count": null,
   "metadata": {},
   "outputs": [],
   "source": [
    "fig, ax = plt.subplots()\n",
    "im = ax.imshow(recons, cmap='viridis', interpolation='nearest')\n",
    "y=np.array(y)"
   ]
  },
  {
   "cell_type": "markdown",
   "metadata": {},
   "source": [
    "### Delay-and-Sum algorithm"
   ]
  },
  {
   "cell_type": "code",
   "execution_count": null,
   "metadata": {},
   "outputs": [],
   "source": [
    "# Assuming you have the necessary functions and parameters defined\n",
    "# Create a grid of points\n",
    "grid = [[(i * dist_per_samp, pitch * (2 * j + 1) / 2) for j in range(-Nmics // 2, Nmics // 2)] for i in range(Nsamp)]\n",
    "\n",
    "# Initialize val with zeros\n",
    "val = np.zeros(( Nmics,Nsamp))\n",
    "max_value = 0\n",
    "max_index = (0, 0)\n",
    "\n",
    "# Iterate through each point in the grid\n",
    "for i in range(Nsamp):\n",
    "    for j in range(Nmics):\n",
    "        v = 0\n",
    "        # Iterate through each microphone\n",
    "        for k in range(Nmics):\n",
    "            # Accumulate the weighted source signal based on distance\n",
    "            sampind = int(dist(src, grid[i][j], mics[k]) / dist_per_samp)\n",
    "            if sampind<Nsamp:\n",
    "                v += recons[k][sampind]\n",
    "        # Assign the accumulated value to the corresponding position in val\n",
    "        val[j][i] = v\n",
    "\n",
    "        # Update max value and index\n",
    "        if v >= max_value:\n",
    "            max_value = v\n",
    "            max_index = (i,j)\n",
    "\n",
    "# Create a heatmap\n",
    "fig, ax = plt.subplots()\n",
    "im = ax.imshow(val,aspect='equal', cmap='viridis', interpolation='nearest')\n",
    "plt.title('Delay-and-Sum Heatmap')\n",
    "plt.colorbar(im)\n",
    "plt.show()"
   ]
  },
  {
   "cell_type": "code",
   "execution_count": null,
   "metadata": {},
   "outputs": [],
   "source": [
    "print(max_index)"
   ]
  },
  {
   "cell_type": "markdown",
   "metadata": {},
   "source": [
    "## Explanation:"
   ]
  },
  {
   "cell_type": "markdown",
   "metadata": {},
   "source": [
    "### Point upto which Reconstruction can take place\n",
    "*It is not necessary to go upto Nsamp because even if iterate upto Nsamp only upto a condition when `total distance from source to grid point to mic is less than 20` (Nsamp* **dist_per_samp) we can use the value. After this, outer iterations of i is useless. This means that points with x_axis values above Nsamp/2 would never play a role. Iterating upto Nsamp/2 or even Nsamp* * *3/8 would be ideal*"
   ]
  },
  {
   "cell_type": "markdown",
   "metadata": {},
   "source": [
    "### Reason for x,y coordinates\n",
    "The obstacle was placed at (3,-1). \n",
    "* Y- axis:<br>\n",
    "*The microphones that range from -3.15 to 3.15 are also shown from 0 to 63. This is because the pitch is 0.1 (3.15-(13.15)/ 0.1 =63).<br> Thus the point -1 is represented by -1-(-3.15)/0.1=21.5. The integer truncation has returned a value of 21*\n",
    "* X axis:<br>\n",
    "*The point 3 occurs after 3/dist_per_samp= 30 sampling points. Thus x_axis value is 30*"
   ]
  },
  {
   "cell_type": "markdown",
   "metadata": {},
   "source": [
    "### Maximum x,y coordinates\n",
    "The obstacle should be placed within a total distance from all source-obstacle-mics of 20 units of distance. It should thus lie definitely within radius of 10 units as we have trouble using samples above it.<br> With `y coordinates upto 3.15`, safe` x values are upto 9` (Though greater y coordinates could be considered we only sample points from -3.15 to 3.15 while plotting the grid for heatmap) "
   ]
  },
  {
   "cell_type": "markdown",
   "metadata": {},
   "source": [
    "### Sharpness of image:\n",
    "The image becomes sharper if C is decreased because the wavelength becomes smaller as C decreses. Initially wavelength and pitch are equal. Then as wavelength gets much smaller than the dist_per_samp we get a better resolution<br>\n",
    "This behavior aligns with the concept of the `Nyquist-Shannon sampling theorem`, which states that to accurately capture a signal, the sampling rate should be at least twice the frequency of the signal. In this case, `decreasing C effectively increases the frequency` (since the speed of sound is inversely proportional to the wavelength), leading to better resolution when the wavelength becomes much smaller than the sampling interval."
   ]
  },
  {
   "cell_type": "markdown",
   "metadata": {},
   "source": [
    "### Impact of Nmics and Nsamps\n",
    "We observe that with increase in number of microphones, increase in samples increses resolution of heatmap.<br>\n",
    "**Impact of Low Number of Microphones:** When the number of microphones is very low the obstacle cant be detected. This is because the y co-ordinate of obstacle is found using the fact that different microphones have different delays. If number of microphones is low, the have almost same delay. Thus only x-cordinate can be predicted. <br>**Resolution Increase with More Samples:** As number of samples is incresed for a given number of mics, its resolution increses<br> **Resolution Increase with More Microphones:** As the number of microphones is incresed its y coordinate can be predicted more accurately "
   ]
  },
  {
   "cell_type": "markdown",
   "metadata": {},
   "source": [
    "## 2 obstacles"
   ]
  },
  {
   "cell_type": "code",
   "execution_count": null,
   "metadata": {},
   "outputs": [],
   "source": [
    "import csv\n",
    "file_path = \"C:\\\\Users\\\\shrip\\\\Downloads\\\\rx2.txt\"\n",
    "# Initialize an empty list to store the data\n",
    "data = []\n",
    "with open(file_path, 'r') as file:\n",
    "    reader = csv.reader(file,delimiter=' ')\n",
    "    for row in reader:\n",
    "        data.append([float(value) for value in row])\n",
    "data=np.array(data)"
   ]
  },
  {
   "cell_type": "code",
   "execution_count": null,
   "metadata": {},
   "outputs": [],
   "source": [
    "fig, ax = plt.subplots()\n",
    "im = ax.imshow(data)\n",
    "C=0.5"
   ]
  },
  {
   "cell_type": "code",
   "execution_count": null,
   "metadata": {},
   "outputs": [],
   "source": [
    "for i in range(len(data)):\n",
    "    plt.plot(x,data[i]+(i-Nmics//2+0.5) * pitch)"
   ]
  },
  {
   "cell_type": "code",
   "execution_count": null,
   "metadata": {},
   "outputs": [],
   "source": [
    "# Initialize val with zeros\n",
    "val = np.zeros(( Nmics,Nsamp))\n",
    "# Iterate through each point in the grid\n",
    "for i in range(Nsamp):\n",
    "    for j in range(Nmics):\n",
    "        v = 0\n",
    "        # Iterate through each microphone\n",
    "        for k in range(Nmics):\n",
    "            # Accumulate the weighted source signal based on distance\n",
    "            sampind = int(dist(src, grid[i][j], mics[k]) / dist_per_samp)\n",
    "            if sampind<Nsamp:\n",
    "                v += data[k][sampind]\n",
    "\n",
    "        # Assign the accumulated value to the corresponding position in val\n",
    "        val[j][i] = v\n",
    "\n",
    "# Create a heatmap\n",
    "fig, ax = plt.subplots()\n",
    "im = ax.imshow(val,aspect='equal', cmap='viridis', interpolation='nearest')\n",
    "plt.title('Delay-and-Sum Heatmap')\n",
    "plt.colorbar(im)\n",
    "plt.show()\n"
   ]
  },
  {
   "cell_type": "markdown",
   "metadata": {},
   "source": [
    "The obstacles appear to be placed at (2,0) and (3,1)"
   ]
  },
  {
   "cell_type": "markdown",
   "metadata": {},
   "source": [
    "## 3 obstacles"
   ]
  },
  {
   "cell_type": "code",
   "execution_count": null,
   "metadata": {},
   "outputs": [],
   "source": [
    "import csv\n",
    "file_path = \"C:\\\\Users\\\\shrip\\\\Downloads\\\\rx3.txt\"\n",
    "# Initialize an empty list to store the data\n",
    "data1 = []\n",
    "with open(file_path, 'r') as file:\n",
    "    reader = csv.reader(file,delimiter=' ')\n",
    "    for row in reader:\n",
    "        data1.append([float(value) for value in row])\n",
    "# Convert the data to a NumPy array\n",
    "data1 = np.array(data1)"
   ]
  },
  {
   "cell_type": "code",
   "execution_count": null,
   "metadata": {},
   "outputs": [],
   "source": [
    "fig, ax = plt.subplots()\n",
    "im = ax.imshow(data1)"
   ]
  },
  {
   "cell_type": "code",
   "execution_count": null,
   "metadata": {},
   "outputs": [],
   "source": [
    "for i in range(len(data1)):\n",
    "    plt.plot(x,data1[i]+(i-Nmics//2+0.5) * pitch)"
   ]
  },
  {
   "cell_type": "code",
   "execution_count": null,
   "metadata": {},
   "outputs": [],
   "source": [
    "# Initialize val with zeros\n",
    "val = np.zeros(( Nmics,Nsamp))\n",
    "\n",
    "# Iterate through each point in the grid\n",
    "for i in range(Nsamp):\n",
    "    for j in range(Nmics):\n",
    "        v = 0\n",
    "        # Iterate through each microphone\n",
    "        for k in range(Nmics):\n",
    "            # Accumulate the weighted source signal based on distance\n",
    "            sampind = int(dist(src, grid[i][j], mics[k]) / dist_per_samp)\n",
    "            if sampind<Nsamp:\n",
    "                v += data1[k][sampind]\n",
    "\n",
    "        # Assign the accumulated value to the corresponding position in val\n",
    "        val[j][i] = v\n",
    "\n",
    "# Create a heatmap\n",
    "fig, ax = plt.subplots()\n",
    "im = ax.imshow(val,aspect='equal', cmap='viridis', interpolation='nearest')\n",
    "plt.title('Delay-and-Sum Heatmap')\n",
    "plt.colorbar(im)\n",
    "plt.show()"
   ]
  },
  {
   "cell_type": "markdown",
   "metadata": {},
   "source": [
    "The obstacles appear to be placed at (2,0), (3,1) and (3.7,1)"
   ]
  }
 ],
 "metadata": {
  "kernelspec": {
   "display_name": "Python 3",
   "language": "python",
   "name": "python3"
  },
  "language_info": {
   "codemirror_mode": {
    "name": "ipython",
    "version": 3
   },
   "file_extension": ".py",
   "mimetype": "text/x-python",
   "name": "python",
   "nbconvert_exporter": "python",
   "pygments_lexer": "ipython3",
   "version": "3.9.6"
  }
 },
 "nbformat": 4,
 "nbformat_minor": 2
}
